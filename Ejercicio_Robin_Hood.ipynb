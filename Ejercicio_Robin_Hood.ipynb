{
  "nbformat": 4,
  "nbformat_minor": 0,
  "metadata": {
    "colab": {
      "provenance": [],
      "include_colab_link": true
    },
    "kernelspec": {
      "name": "python3",
      "display_name": "Python 3"
    },
    "language_info": {
      "name": "python"
    }
  },
  "cells": [
    {
      "cell_type": "markdown",
      "metadata": {
        "id": "view-in-github",
        "colab_type": "text"
      },
      "source": [
        "<a href=\"https://colab.research.google.com/github/JorgeUgalde/Sistemas_Expertos_Ejercicios/blob/main/Ejercicio_Robin_Hood.ipynb\" target=\"_parent\"><img src=\"https://colab.research.google.com/assets/colab-badge.svg\" alt=\"Open In Colab\"/></a>"
      ]
    },
    {
      "cell_type": "code",
      "execution_count": 4,
      "metadata": {
        "id": "SoOb5Tqv0Oro"
      },
      "outputs": [],
      "source": [
        "robin_hood = open('/content/drive/MyDrive/Colab Notebooks/Robin Hood.txt', 'r').read()"
      ]
    },
    {
      "cell_type": "code",
      "source": [
        "from google.colab import drive\n",
        "drive.mount('/content/drive')"
      ],
      "metadata": {
        "colab": {
          "base_uri": "https://localhost:8080/"
        },
        "id": "WBlrQUC5z19j",
        "outputId": "5f382c32-ef35-4015-be31-59a97981d0a0"
      },
      "execution_count": 3,
      "outputs": [
        {
          "output_type": "stream",
          "name": "stdout",
          "text": [
            "Mounted at /content/drive\n"
          ]
        }
      ]
    },
    {
      "cell_type": "code",
      "source": [
        "import nltk\n",
        "from nltk.tokenize import word_tokenize, sent_tokenize"
      ],
      "metadata": {
        "id": "NfbmqHX14A35"
      },
      "execution_count": 5,
      "outputs": []
    },
    {
      "cell_type": "code",
      "source": [
        "nltk.download('punkt')"
      ],
      "metadata": {
        "colab": {
          "base_uri": "https://localhost:8080/"
        },
        "id": "2c7rluWf4FKf",
        "outputId": "b404a5a1-99ad-45f7-f73c-3a586beeb7b0"
      },
      "execution_count": 6,
      "outputs": [
        {
          "output_type": "stream",
          "name": "stderr",
          "text": [
            "[nltk_data] Downloading package punkt to /root/nltk_data...\n",
            "[nltk_data]   Unzipping tokenizers/punkt.zip.\n"
          ]
        },
        {
          "output_type": "execute_result",
          "data": {
            "text/plain": [
              "True"
            ]
          },
          "metadata": {},
          "execution_count": 6
        }
      ]
    },
    {
      "cell_type": "code",
      "source": [
        "ejemplo = 'El Sr. Ramírez ha visto un enjambre de abejas acercarse. Asustado, corrió como nunca había corrido en su vida. Olvidó que corría directo al precipicio.'\n",
        "tokenized_sentences = sent_tokenize(ejemplo)\n",
        "tokenized_sentences"
      ],
      "metadata": {
        "colab": {
          "base_uri": "https://localhost:8080/"
        },
        "id": "nALyS5u44KL9",
        "outputId": "bbadefa7-7625-4f9c-c9e9-7187b66d5f71"
      },
      "execution_count": 7,
      "outputs": [
        {
          "output_type": "execute_result",
          "data": {
            "text/plain": [
              "['El Sr. Ramírez ha visto un enjambre de abejas acercarse.',\n",
              " 'Asustado, corrió como nunca había corrido en su vida.',\n",
              " 'Olvidó que corría directo al precipicio.']"
            ]
          },
          "metadata": {},
          "execution_count": 7
        }
      ]
    },
    {
      "cell_type": "code",
      "source": [
        "tokenized_words = word_tokenize(ejemplo)\n",
        "tokenized_words[:10]"
      ],
      "metadata": {
        "colab": {
          "base_uri": "https://localhost:8080/"
        },
        "id": "IoyK-mBT4M4x",
        "outputId": "3b917915-d38f-4ab6-bf53-1533b342b33d"
      },
      "execution_count": 8,
      "outputs": [
        {
          "output_type": "execute_result",
          "data": {
            "text/plain": [
              "['El',\n",
              " 'Sr.',\n",
              " 'Ramírez',\n",
              " 'ha',\n",
              " 'visto',\n",
              " 'un',\n",
              " 'enjambre',\n",
              " 'de',\n",
              " 'abejas',\n",
              " 'acercarse']"
            ]
          },
          "metadata": {},
          "execution_count": 8
        }
      ]
    },
    {
      "cell_type": "code",
      "source": [
        "robin_hood_tk_sent = sent_tokenize(robin_hood)\n",
        "robin_hood_tk_sent[:5] #se muestran las primeras cinco oraciones"
      ],
      "metadata": {
        "colab": {
          "base_uri": "https://localhost:8080/"
        },
        "id": "DCPqeU_q4Qxd",
        "outputId": "34276ef3-2a5e-40d8-eb36-1539104e6613"
      },
      "execution_count": 9,
      "outputs": [
        {
          "output_type": "execute_result",
          "data": {
            "text/plain": [
              "['Se me callan.',\n",
              " 'Si, sé que ha pasado mucho tiempo pero díganme una cosa, si Rihanna se ha tomado 5 años de algo que le DA REAL, ¿Yo no puedo descansar dos meses de esto?',\n",
              " 'Para reflexionar.',\n",
              " 'En fin, como los Backstreet Boys: omg I’m back again, y con la historia de Robin Hood.',\n",
              " 'A ver, si hacen memoria, van a recordar que el “Robin Hood” de Disney es un zorro, y todos los personajes son animalitos del bosque.']"
            ]
          },
          "metadata": {},
          "execution_count": 9
        }
      ]
    },
    {
      "cell_type": "code",
      "source": [
        "robin_hood_tk_words = word_tokenize(robin_hood)\n",
        "robin_hood_tk_words[:20] # se muestran los primeros veinte items"
      ],
      "metadata": {
        "colab": {
          "base_uri": "https://localhost:8080/"
        },
        "id": "opY8FBZk4TUF",
        "outputId": "187de22e-4bd0-4a11-af66-55d79940d552"
      },
      "execution_count": 10,
      "outputs": [
        {
          "output_type": "execute_result",
          "data": {
            "text/plain": [
              "['Se',\n",
              " 'me',\n",
              " 'callan',\n",
              " '.',\n",
              " 'Si',\n",
              " ',',\n",
              " 'sé',\n",
              " 'que',\n",
              " 'ha',\n",
              " 'pasado',\n",
              " 'mucho',\n",
              " 'tiempo',\n",
              " 'pero',\n",
              " 'díganme',\n",
              " 'una',\n",
              " 'cosa',\n",
              " ',',\n",
              " 'si',\n",
              " 'Rihanna',\n",
              " 'se']"
            ]
          },
          "metadata": {},
          "execution_count": 10
        }
      ]
    },
    {
      "cell_type": "code",
      "source": [
        "robin_hood_tk_words = [word for word in robin_hood_tk_words if word.isalnum()]\n",
        "robin_hood_tk_words[:20]"
      ],
      "metadata": {
        "colab": {
          "base_uri": "https://localhost:8080/"
        },
        "id": "wnQKV8pY4YfQ",
        "outputId": "32753373-4118-4d0c-cc42-52d07ae213f9"
      },
      "execution_count": 11,
      "outputs": [
        {
          "output_type": "execute_result",
          "data": {
            "text/plain": [
              "['Se',\n",
              " 'me',\n",
              " 'callan',\n",
              " 'Si',\n",
              " 'sé',\n",
              " 'que',\n",
              " 'ha',\n",
              " 'pasado',\n",
              " 'mucho',\n",
              " 'tiempo',\n",
              " 'pero',\n",
              " 'díganme',\n",
              " 'una',\n",
              " 'cosa',\n",
              " 'si',\n",
              " 'Rihanna',\n",
              " 'se',\n",
              " 'ha',\n",
              " 'tomado',\n",
              " '5']"
            ]
          },
          "metadata": {},
          "execution_count": 11
        }
      ]
    },
    {
      "cell_type": "code",
      "source": [
        "!pip install -U spacy"
      ],
      "metadata": {
        "colab": {
          "base_uri": "https://localhost:8080/"
        },
        "id": "qcz158s24g7Q",
        "outputId": "9811cb85-40cd-4c58-c32c-0f55a4f04b2c"
      },
      "execution_count": 12,
      "outputs": [
        {
          "output_type": "stream",
          "name": "stdout",
          "text": [
            "Requirement already satisfied: spacy in /usr/local/lib/python3.10/dist-packages (3.7.4)\n",
            "Requirement already satisfied: spacy-legacy<3.1.0,>=3.0.11 in /usr/local/lib/python3.10/dist-packages (from spacy) (3.0.12)\n",
            "Requirement already satisfied: spacy-loggers<2.0.0,>=1.0.0 in /usr/local/lib/python3.10/dist-packages (from spacy) (1.0.5)\n",
            "Requirement already satisfied: murmurhash<1.1.0,>=0.28.0 in /usr/local/lib/python3.10/dist-packages (from spacy) (1.0.10)\n",
            "Requirement already satisfied: cymem<2.1.0,>=2.0.2 in /usr/local/lib/python3.10/dist-packages (from spacy) (2.0.8)\n",
            "Requirement already satisfied: preshed<3.1.0,>=3.0.2 in /usr/local/lib/python3.10/dist-packages (from spacy) (3.0.9)\n",
            "Requirement already satisfied: thinc<8.3.0,>=8.2.2 in /usr/local/lib/python3.10/dist-packages (from spacy) (8.2.3)\n",
            "Requirement already satisfied: wasabi<1.2.0,>=0.9.1 in /usr/local/lib/python3.10/dist-packages (from spacy) (1.1.2)\n",
            "Requirement already satisfied: srsly<3.0.0,>=2.4.3 in /usr/local/lib/python3.10/dist-packages (from spacy) (2.4.8)\n",
            "Requirement already satisfied: catalogue<2.1.0,>=2.0.6 in /usr/local/lib/python3.10/dist-packages (from spacy) (2.0.10)\n",
            "Requirement already satisfied: weasel<0.4.0,>=0.1.0 in /usr/local/lib/python3.10/dist-packages (from spacy) (0.3.4)\n",
            "Requirement already satisfied: typer<0.10.0,>=0.3.0 in /usr/local/lib/python3.10/dist-packages (from spacy) (0.9.4)\n",
            "Requirement already satisfied: smart-open<7.0.0,>=5.2.1 in /usr/local/lib/python3.10/dist-packages (from spacy) (6.4.0)\n",
            "Requirement already satisfied: tqdm<5.0.0,>=4.38.0 in /usr/local/lib/python3.10/dist-packages (from spacy) (4.66.4)\n",
            "Requirement already satisfied: requests<3.0.0,>=2.13.0 in /usr/local/lib/python3.10/dist-packages (from spacy) (2.31.0)\n",
            "Requirement already satisfied: pydantic!=1.8,!=1.8.1,<3.0.0,>=1.7.4 in /usr/local/lib/python3.10/dist-packages (from spacy) (2.7.1)\n",
            "Requirement already satisfied: jinja2 in /usr/local/lib/python3.10/dist-packages (from spacy) (3.1.4)\n",
            "Requirement already satisfied: setuptools in /usr/local/lib/python3.10/dist-packages (from spacy) (67.7.2)\n",
            "Requirement already satisfied: packaging>=20.0 in /usr/local/lib/python3.10/dist-packages (from spacy) (24.0)\n",
            "Requirement already satisfied: langcodes<4.0.0,>=3.2.0 in /usr/local/lib/python3.10/dist-packages (from spacy) (3.4.0)\n",
            "Requirement already satisfied: numpy>=1.19.0 in /usr/local/lib/python3.10/dist-packages (from spacy) (1.25.2)\n",
            "Requirement already satisfied: language-data>=1.2 in /usr/local/lib/python3.10/dist-packages (from langcodes<4.0.0,>=3.2.0->spacy) (1.2.0)\n",
            "Requirement already satisfied: annotated-types>=0.4.0 in /usr/local/lib/python3.10/dist-packages (from pydantic!=1.8,!=1.8.1,<3.0.0,>=1.7.4->spacy) (0.6.0)\n",
            "Requirement already satisfied: pydantic-core==2.18.2 in /usr/local/lib/python3.10/dist-packages (from pydantic!=1.8,!=1.8.1,<3.0.0,>=1.7.4->spacy) (2.18.2)\n",
            "Requirement already satisfied: typing-extensions>=4.6.1 in /usr/local/lib/python3.10/dist-packages (from pydantic!=1.8,!=1.8.1,<3.0.0,>=1.7.4->spacy) (4.11.0)\n",
            "Requirement already satisfied: charset-normalizer<4,>=2 in /usr/local/lib/python3.10/dist-packages (from requests<3.0.0,>=2.13.0->spacy) (3.3.2)\n",
            "Requirement already satisfied: idna<4,>=2.5 in /usr/local/lib/python3.10/dist-packages (from requests<3.0.0,>=2.13.0->spacy) (3.7)\n",
            "Requirement already satisfied: urllib3<3,>=1.21.1 in /usr/local/lib/python3.10/dist-packages (from requests<3.0.0,>=2.13.0->spacy) (2.0.7)\n",
            "Requirement already satisfied: certifi>=2017.4.17 in /usr/local/lib/python3.10/dist-packages (from requests<3.0.0,>=2.13.0->spacy) (2024.2.2)\n",
            "Requirement already satisfied: blis<0.8.0,>=0.7.8 in /usr/local/lib/python3.10/dist-packages (from thinc<8.3.0,>=8.2.2->spacy) (0.7.11)\n",
            "Requirement already satisfied: confection<1.0.0,>=0.0.1 in /usr/local/lib/python3.10/dist-packages (from thinc<8.3.0,>=8.2.2->spacy) (0.1.4)\n",
            "Requirement already satisfied: click<9.0.0,>=7.1.1 in /usr/local/lib/python3.10/dist-packages (from typer<0.10.0,>=0.3.0->spacy) (8.1.7)\n",
            "Requirement already satisfied: cloudpathlib<0.17.0,>=0.7.0 in /usr/local/lib/python3.10/dist-packages (from weasel<0.4.0,>=0.1.0->spacy) (0.16.0)\n",
            "Requirement already satisfied: MarkupSafe>=2.0 in /usr/local/lib/python3.10/dist-packages (from jinja2->spacy) (2.1.5)\n",
            "Requirement already satisfied: marisa-trie>=0.7.7 in /usr/local/lib/python3.10/dist-packages (from language-data>=1.2->langcodes<4.0.0,>=3.2.0->spacy) (1.1.1)\n"
          ]
        }
      ]
    },
    {
      "cell_type": "code",
      "source": [
        "%%bash\n",
        "python -m spacy download es_core_news_lg"
      ],
      "metadata": {
        "colab": {
          "base_uri": "https://localhost:8080/"
        },
        "id": "fMD3s95A4l_R",
        "outputId": "4613c4ac-dfa6-4801-c6e3-c8e4f77dd38f"
      },
      "execution_count": 13,
      "outputs": [
        {
          "output_type": "stream",
          "name": "stdout",
          "text": [
            "Collecting es-core-news-lg==3.7.0\n",
            "  Downloading https://github.com/explosion/spacy-models/releases/download/es_core_news_lg-3.7.0/es_core_news_lg-3.7.0-py3-none-any.whl (568.0 MB)\n",
            "     ━━━━━━━━━━━━━━━━━━━━━━━━━━━━━━━━━━━━━━━━ 568.0/568.0 MB 1.8 MB/s eta 0:00:00\n",
            "Requirement already satisfied: spacy<3.8.0,>=3.7.0 in /usr/local/lib/python3.10/dist-packages (from es-core-news-lg==3.7.0) (3.7.4)\n",
            "Requirement already satisfied: spacy-legacy<3.1.0,>=3.0.11 in /usr/local/lib/python3.10/dist-packages (from spacy<3.8.0,>=3.7.0->es-core-news-lg==3.7.0) (3.0.12)\n",
            "Requirement already satisfied: spacy-loggers<2.0.0,>=1.0.0 in /usr/local/lib/python3.10/dist-packages (from spacy<3.8.0,>=3.7.0->es-core-news-lg==3.7.0) (1.0.5)\n",
            "Requirement already satisfied: murmurhash<1.1.0,>=0.28.0 in /usr/local/lib/python3.10/dist-packages (from spacy<3.8.0,>=3.7.0->es-core-news-lg==3.7.0) (1.0.10)\n",
            "Requirement already satisfied: cymem<2.1.0,>=2.0.2 in /usr/local/lib/python3.10/dist-packages (from spacy<3.8.0,>=3.7.0->es-core-news-lg==3.7.0) (2.0.8)\n",
            "Requirement already satisfied: preshed<3.1.0,>=3.0.2 in /usr/local/lib/python3.10/dist-packages (from spacy<3.8.0,>=3.7.0->es-core-news-lg==3.7.0) (3.0.9)\n",
            "Requirement already satisfied: thinc<8.3.0,>=8.2.2 in /usr/local/lib/python3.10/dist-packages (from spacy<3.8.0,>=3.7.0->es-core-news-lg==3.7.0) (8.2.3)\n",
            "Requirement already satisfied: wasabi<1.2.0,>=0.9.1 in /usr/local/lib/python3.10/dist-packages (from spacy<3.8.0,>=3.7.0->es-core-news-lg==3.7.0) (1.1.2)\n",
            "Requirement already satisfied: srsly<3.0.0,>=2.4.3 in /usr/local/lib/python3.10/dist-packages (from spacy<3.8.0,>=3.7.0->es-core-news-lg==3.7.0) (2.4.8)\n",
            "Requirement already satisfied: catalogue<2.1.0,>=2.0.6 in /usr/local/lib/python3.10/dist-packages (from spacy<3.8.0,>=3.7.0->es-core-news-lg==3.7.0) (2.0.10)\n",
            "Requirement already satisfied: weasel<0.4.0,>=0.1.0 in /usr/local/lib/python3.10/dist-packages (from spacy<3.8.0,>=3.7.0->es-core-news-lg==3.7.0) (0.3.4)\n",
            "Requirement already satisfied: typer<0.10.0,>=0.3.0 in /usr/local/lib/python3.10/dist-packages (from spacy<3.8.0,>=3.7.0->es-core-news-lg==3.7.0) (0.9.4)\n",
            "Requirement already satisfied: smart-open<7.0.0,>=5.2.1 in /usr/local/lib/python3.10/dist-packages (from spacy<3.8.0,>=3.7.0->es-core-news-lg==3.7.0) (6.4.0)\n",
            "Requirement already satisfied: tqdm<5.0.0,>=4.38.0 in /usr/local/lib/python3.10/dist-packages (from spacy<3.8.0,>=3.7.0->es-core-news-lg==3.7.0) (4.66.4)\n",
            "Requirement already satisfied: requests<3.0.0,>=2.13.0 in /usr/local/lib/python3.10/dist-packages (from spacy<3.8.0,>=3.7.0->es-core-news-lg==3.7.0) (2.31.0)\n",
            "Requirement already satisfied: pydantic!=1.8,!=1.8.1,<3.0.0,>=1.7.4 in /usr/local/lib/python3.10/dist-packages (from spacy<3.8.0,>=3.7.0->es-core-news-lg==3.7.0) (2.7.1)\n",
            "Requirement already satisfied: jinja2 in /usr/local/lib/python3.10/dist-packages (from spacy<3.8.0,>=3.7.0->es-core-news-lg==3.7.0) (3.1.4)\n",
            "Requirement already satisfied: setuptools in /usr/local/lib/python3.10/dist-packages (from spacy<3.8.0,>=3.7.0->es-core-news-lg==3.7.0) (67.7.2)\n",
            "Requirement already satisfied: packaging>=20.0 in /usr/local/lib/python3.10/dist-packages (from spacy<3.8.0,>=3.7.0->es-core-news-lg==3.7.0) (24.0)\n",
            "Requirement already satisfied: langcodes<4.0.0,>=3.2.0 in /usr/local/lib/python3.10/dist-packages (from spacy<3.8.0,>=3.7.0->es-core-news-lg==3.7.0) (3.4.0)\n",
            "Requirement already satisfied: numpy>=1.19.0 in /usr/local/lib/python3.10/dist-packages (from spacy<3.8.0,>=3.7.0->es-core-news-lg==3.7.0) (1.25.2)\n",
            "Requirement already satisfied: language-data>=1.2 in /usr/local/lib/python3.10/dist-packages (from langcodes<4.0.0,>=3.2.0->spacy<3.8.0,>=3.7.0->es-core-news-lg==3.7.0) (1.2.0)\n",
            "Requirement already satisfied: annotated-types>=0.4.0 in /usr/local/lib/python3.10/dist-packages (from pydantic!=1.8,!=1.8.1,<3.0.0,>=1.7.4->spacy<3.8.0,>=3.7.0->es-core-news-lg==3.7.0) (0.6.0)\n",
            "Requirement already satisfied: pydantic-core==2.18.2 in /usr/local/lib/python3.10/dist-packages (from pydantic!=1.8,!=1.8.1,<3.0.0,>=1.7.4->spacy<3.8.0,>=3.7.0->es-core-news-lg==3.7.0) (2.18.2)\n",
            "Requirement already satisfied: typing-extensions>=4.6.1 in /usr/local/lib/python3.10/dist-packages (from pydantic!=1.8,!=1.8.1,<3.0.0,>=1.7.4->spacy<3.8.0,>=3.7.0->es-core-news-lg==3.7.0) (4.11.0)\n",
            "Requirement already satisfied: charset-normalizer<4,>=2 in /usr/local/lib/python3.10/dist-packages (from requests<3.0.0,>=2.13.0->spacy<3.8.0,>=3.7.0->es-core-news-lg==3.7.0) (3.3.2)\n",
            "Requirement already satisfied: idna<4,>=2.5 in /usr/local/lib/python3.10/dist-packages (from requests<3.0.0,>=2.13.0->spacy<3.8.0,>=3.7.0->es-core-news-lg==3.7.0) (3.7)\n",
            "Requirement already satisfied: urllib3<3,>=1.21.1 in /usr/local/lib/python3.10/dist-packages (from requests<3.0.0,>=2.13.0->spacy<3.8.0,>=3.7.0->es-core-news-lg==3.7.0) (2.0.7)\n",
            "Requirement already satisfied: certifi>=2017.4.17 in /usr/local/lib/python3.10/dist-packages (from requests<3.0.0,>=2.13.0->spacy<3.8.0,>=3.7.0->es-core-news-lg==3.7.0) (2024.2.2)\n",
            "Requirement already satisfied: blis<0.8.0,>=0.7.8 in /usr/local/lib/python3.10/dist-packages (from thinc<8.3.0,>=8.2.2->spacy<3.8.0,>=3.7.0->es-core-news-lg==3.7.0) (0.7.11)\n",
            "Requirement already satisfied: confection<1.0.0,>=0.0.1 in /usr/local/lib/python3.10/dist-packages (from thinc<8.3.0,>=8.2.2->spacy<3.8.0,>=3.7.0->es-core-news-lg==3.7.0) (0.1.4)\n",
            "Requirement already satisfied: click<9.0.0,>=7.1.1 in /usr/local/lib/python3.10/dist-packages (from typer<0.10.0,>=0.3.0->spacy<3.8.0,>=3.7.0->es-core-news-lg==3.7.0) (8.1.7)\n",
            "Requirement already satisfied: cloudpathlib<0.17.0,>=0.7.0 in /usr/local/lib/python3.10/dist-packages (from weasel<0.4.0,>=0.1.0->spacy<3.8.0,>=3.7.0->es-core-news-lg==3.7.0) (0.16.0)\n",
            "Requirement already satisfied: MarkupSafe>=2.0 in /usr/local/lib/python3.10/dist-packages (from jinja2->spacy<3.8.0,>=3.7.0->es-core-news-lg==3.7.0) (2.1.5)\n",
            "Requirement already satisfied: marisa-trie>=0.7.7 in /usr/local/lib/python3.10/dist-packages (from language-data>=1.2->langcodes<4.0.0,>=3.2.0->spacy<3.8.0,>=3.7.0->es-core-news-lg==3.7.0) (1.1.1)\n",
            "Installing collected packages: es-core-news-lg\n",
            "Successfully installed es-core-news-lg-3.7.0\n",
            "\u001b[38;5;2m✔ Download and installation successful\u001b[0m\n",
            "You can now load the package via spacy.load('es_core_news_lg')\n",
            "\u001b[38;5;3m⚠ Restart to reload dependencies\u001b[0m\n",
            "If you are in a Jupyter or Colab notebook, you may need to restart Python in\n",
            "order to load all the package's dependencies. You can do this by selecting the\n",
            "'Restart kernel' or 'Restart runtime' option.\n"
          ]
        }
      ]
    },
    {
      "cell_type": "code",
      "source": [
        "import spacy\n",
        "\n",
        "nlp = spacy.load('es_core_news_lg')\n",
        "\n",
        "doc = nlp(robin_hood)\n",
        "type(doc)"
      ],
      "metadata": {
        "colab": {
          "base_uri": "https://localhost:8080/"
        },
        "id": "H1W--CbZ4zyW",
        "outputId": "8f7c109e-01d5-47af-8bc7-19b106db0032"
      },
      "execution_count": 14,
      "outputs": [
        {
          "output_type": "execute_result",
          "data": {
            "text/plain": [
              "spacy.tokens.doc.Doc"
            ]
          },
          "metadata": {},
          "execution_count": 14
        }
      ]
    },
    {
      "cell_type": "code",
      "source": [
        "spacy.tokens.doc.Doc"
      ],
      "metadata": {
        "colab": {
          "base_uri": "https://localhost:8080/"
        },
        "id": "zpaXx4K85Bzm",
        "outputId": "ec9ef7f0-6c18-4efc-a3e1-feef0f16005e"
      },
      "execution_count": 15,
      "outputs": [
        {
          "output_type": "execute_result",
          "data": {
            "text/plain": [
              "spacy.tokens.doc.Doc"
            ]
          },
          "metadata": {},
          "execution_count": 15
        }
      ]
    },
    {
      "cell_type": "code",
      "source": [
        "robin_hood_entities = [(tok.text, tok.label_) for tok in doc.ents if tok.label_ != 'MISC']\n",
        "robin_hood_entities"
      ],
      "metadata": {
        "colab": {
          "base_uri": "https://localhost:8080/"
        },
        "id": "x4xnCnSD5DR6",
        "outputId": "3e9089ef-2c27-4dac-a875-7ca48f8f3ec0"
      },
      "execution_count": 16,
      "outputs": [
        {
          "output_type": "execute_result",
          "data": {
            "text/plain": [
              "[('Rihanna', 'PER'),\n",
              " ('DA REAL', 'ORG'),\n",
              " ('¿Yo', 'ORG'),\n",
              " ('Backstreet Boys', 'ORG'),\n",
              " ('Robin Hood', 'PER'),\n",
              " ('Disney', 'PER'),\n",
              " ('José Luis', 'PER'),\n",
              " ('HÁBITAT', 'LOC'),\n",
              " ('belen', 'LOC'),\n",
              " ('José Luis', 'PER'),\n",
              " ('Disney', 'PER'),\n",
              " ('Roman de Renart', 'PER'),\n",
              " ('Disney', 'PER'),\n",
              " ('Robin Hood', 'PER'),\n",
              " ('Inglaterra', 'LOC'),\n",
              " ('Pedro Pérez', 'PER'),\n",
              " ('Robin Hood', 'PER'),\n",
              " ('Robin Hood', 'PER'),\n",
              " ('PERO', 'ORG'),\n",
              " ('Howard Pyle', 'PER'),\n",
              " ('CAPERUZA', 'ORG'),\n",
              " ('España', 'LOC'),\n",
              " ('Nottingham', 'LOC'),\n",
              " ('Inglaterra', 'LOC'),\n",
              " ('chevere', 'LOC'),\n",
              " ('Robin Hood', 'PER'),\n",
              " ('Robin', 'PER'),\n",
              " ('Robin', 'PER'),\n",
              " ('Robin', 'PER'),\n",
              " ('Robin', 'PER'),\n",
              " ('FORRESTLIFE', 'ORG'),\n",
              " ('Robin Hood', 'PER'),\n",
              " ('Robin', 'PER'),\n",
              " ('rey Richard', 'PER'),\n",
              " ('Nottingham', 'LOC'),\n",
              " ('Robin Hood', 'PER'),\n",
              " ('Robin Hood', 'PER'),\n",
              " ('FORRESTLIFE', 'ORG'),\n",
              " ('Robin', 'PER'),\n",
              " ('Robin Hood', 'PER'),\n",
              " ('Robin Hood', 'PER')]"
            ]
          },
          "metadata": {},
          "execution_count": 16
        }
      ]
    },
    {
      "cell_type": "code",
      "source": [
        "for tok in doc.ents:\n",
        "    if tok.label_ == 'PER':\n",
        "        print(tok.text, tok.label_)"
      ],
      "metadata": {
        "colab": {
          "base_uri": "https://localhost:8080/"
        },
        "id": "AFNGqHnO5sbU",
        "outputId": "f05c5811-ab3d-4c33-e6a6-bdf7ac63b1f0"
      },
      "execution_count": 17,
      "outputs": [
        {
          "output_type": "stream",
          "name": "stdout",
          "text": [
            "Rihanna PER\n",
            "Robin Hood PER\n",
            "Disney PER\n",
            "José Luis PER\n",
            "José Luis PER\n",
            "Disney PER\n",
            "Roman de Renart PER\n",
            "Disney PER\n",
            "Robin Hood PER\n",
            "Pedro Pérez PER\n",
            "Robin Hood PER\n",
            "Robin Hood PER\n",
            "Howard Pyle PER\n",
            "Robin Hood PER\n",
            "Robin PER\n",
            "Robin PER\n",
            "Robin PER\n",
            "Robin PER\n",
            "Robin Hood PER\n",
            "Robin PER\n",
            "rey Richard PER\n",
            "Robin Hood PER\n",
            "Robin Hood PER\n",
            "Robin PER\n",
            "Robin Hood PER\n",
            "Robin Hood PER\n"
          ]
        }
      ]
    },
    {
      "cell_type": "code",
      "source": [
        "for sent in robin_hood_tk_sent:\n",
        "    if 'Ajá' in sent:\n",
        "        print(sent)"
      ],
      "metadata": {
        "colab": {
          "base_uri": "https://localhost:8080/"
        },
        "id": "SMFesnAr6BYN",
        "outputId": "8075d0fd-65a2-49f9-ab9d-13c7e9bac68c"
      },
      "execution_count": 18,
      "outputs": [
        {
          "output_type": "stream",
          "name": "stdout",
          "text": [
            "Ajá érase una vez en un lugar llamado Nottingham en Inglaterra, vivía un forajido/pran y su banda de forajidos con los que hacía vainas ilegales y de moral dudosa pero vainas ilegales y de moral dudosa que favorecían los intereses de la gente del bosque entonces, chevere pues.\n"
          ]
        }
      ]
    },
    {
      "cell_type": "code",
      "source": [
        "robin_hood_pers = [tok for tok in doc.ents if tok.label_ == 'PER' and 'Ajá' not in tok.text]\n",
        "for tok in robin_hood_pers:\n",
        "    print(tok.text, tok.label_)"
      ],
      "metadata": {
        "colab": {
          "base_uri": "https://localhost:8080/"
        },
        "id": "Co0M16jk6R1X",
        "outputId": "154dd4f2-4954-420c-e024-7e8b1d35b7eb"
      },
      "execution_count": 19,
      "outputs": [
        {
          "output_type": "stream",
          "name": "stdout",
          "text": [
            "Rihanna PER\n",
            "Robin Hood PER\n",
            "Disney PER\n",
            "José Luis PER\n",
            "José Luis PER\n",
            "Disney PER\n",
            "Roman de Renart PER\n",
            "Disney PER\n",
            "Robin Hood PER\n",
            "Pedro Pérez PER\n",
            "Robin Hood PER\n",
            "Robin Hood PER\n",
            "Howard Pyle PER\n",
            "Robin Hood PER\n",
            "Robin PER\n",
            "Robin PER\n",
            "Robin PER\n",
            "Robin PER\n",
            "Robin Hood PER\n",
            "Robin PER\n",
            "rey Richard PER\n",
            "Robin Hood PER\n",
            "Robin Hood PER\n",
            "Robin PER\n",
            "Robin Hood PER\n",
            "Robin Hood PER\n"
          ]
        }
      ]
    },
    {
      "cell_type": "code",
      "source": [
        "from collections import Counter\n",
        "\n",
        "robin_hood_names = [tok.text for tok in doc.ents if tok.label_ == 'PER' and 'Ajá' not in tok.text]\n",
        "pers_counter = Counter(robin_hood_names)\n",
        "pers_counter = list(reversed(pers_counter.most_common()))\n",
        "pers_counter"
      ],
      "metadata": {
        "colab": {
          "base_uri": "https://localhost:8080/"
        },
        "id": "ugru1t5W6m4J",
        "outputId": "cd6cd39b-eecb-4196-aa78-888dfaa121b9"
      },
      "execution_count": 20,
      "outputs": [
        {
          "output_type": "execute_result",
          "data": {
            "text/plain": [
              "[('rey Richard', 1),\n",
              " ('Howard Pyle', 1),\n",
              " ('Pedro Pérez', 1),\n",
              " ('Roman de Renart', 1),\n",
              " ('Rihanna', 1),\n",
              " ('José Luis', 2),\n",
              " ('Disney', 3),\n",
              " ('Robin', 6),\n",
              " ('Robin Hood', 10)]"
            ]
          },
          "metadata": {},
          "execution_count": 20
        }
      ]
    },
    {
      "cell_type": "code",
      "source": [
        "names = [name for name, count in pers_counter]\n",
        "count = [count for name, count in pers_counter]"
      ],
      "metadata": {
        "id": "I3iSJ0hj7ie3"
      },
      "execution_count": 21,
      "outputs": []
    },
    {
      "cell_type": "code",
      "source": [
        "import matplotlib.pyplot as plt"
      ],
      "metadata": {
        "id": "R2xQ44bo7n5h"
      },
      "execution_count": 22,
      "outputs": []
    },
    {
      "cell_type": "code",
      "source": [
        "plt.figure(figsize=(10, 3))\n",
        "plt.subplot(121)\n",
        "barh = plt.barh(names, count)\n",
        "plt.title('Comparativa de entidades \\'PER\\'\\n(persona) en el hilo de Robin Hood')\n",
        "plt.subplot(122)\n",
        "pie = plt.pie(count, labels=names, wedgeprops={'edgecolor': 'black'},\n",
        "              radius=1.5, shadow=True)\n",
        "plt.style.use('fivethirtyeight')\n",
        "plt.show()"
      ],
      "metadata": {
        "colab": {
          "base_uri": "https://localhost:8080/",
          "height": 253
        },
        "id": "t4WC8ezn7pND",
        "outputId": "9d31495a-99f5-45be-ee6f-385ed8c2c856"
      },
      "execution_count": 23,
      "outputs": [
        {
          "output_type": "display_data",
          "data": {
            "text/plain": [
              "<Figure size 1000x300 with 2 Axes>"
            ],
            "image/png": "[encoded data removed]"
          },
          "metadata": {}
        }
      ]
    }
  ]
}